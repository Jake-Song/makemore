{
 "cells": [
  {
   "cell_type": "code",
   "execution_count": 1,
   "id": "a2cd088e-0fd0-4739-a110-2b56a746ca5d",
   "metadata": {},
   "outputs": [],
   "source": [
    "words = open('names.txt', 'r').read().splitlines()"
   ]
  },
  {
   "cell_type": "code",
   "execution_count": 2,
   "id": "c920dfec-872a-4276-a816-4f1c15be2258",
   "metadata": {},
   "outputs": [],
   "source": [
    "import torch"
   ]
  },
  {
   "cell_type": "code",
   "execution_count": 3,
   "id": "3fb8b759-06ad-40ec-b947-e002926ccfd5",
   "metadata": {},
   "outputs": [
    {
     "data": {
      "text/plain": [
       "{'a': 1,\n",
       " 'b': 2,\n",
       " 'c': 3,\n",
       " 'd': 4,\n",
       " 'e': 5,\n",
       " 'f': 6,\n",
       " 'g': 7,\n",
       " 'h': 8,\n",
       " 'i': 9,\n",
       " 'j': 10,\n",
       " 'k': 11,\n",
       " 'l': 12,\n",
       " 'm': 13,\n",
       " 'n': 14,\n",
       " 'o': 15,\n",
       " 'p': 16,\n",
       " 'q': 17,\n",
       " 'r': 18,\n",
       " 's': 19,\n",
       " 't': 20,\n",
       " 'u': 21,\n",
       " 'v': 22,\n",
       " 'w': 23,\n",
       " 'x': 24,\n",
       " 'y': 25,\n",
       " 'z': 26,\n",
       " '.': 0}"
      ]
     },
     "execution_count": 3,
     "metadata": {},
     "output_type": "execute_result"
    }
   ],
   "source": [
    "chars = sorted(list(set(''.join(words))))\n",
    "stoi = { s:i+1 for i, s in enumerate(chars) }\n",
    "stoi['.'] = 0\n",
    "stoi"
   ]
  },
  {
   "cell_type": "code",
   "execution_count": 56,
   "id": "3c18e221-e521-4beb-a3e4-2eb6f1a8e53f",
   "metadata": {},
   "outputs": [],
   "source": [
    "N = torch.zeros((27, 27, 27), dtype=torch.int32)"
   ]
  },
  {
   "cell_type": "code",
   "execution_count": 57,
   "id": "256673df-7eca-4cab-a96c-b391f2d800f9",
   "metadata": {},
   "outputs": [],
   "source": [
    "for w in words:\n",
    "    chs = ['.'] + list(w) + ['.']\n",
    "    for ch1, ch2, ch3 in zip(chs, chs[1:], chs[2:]):\n",
    "        ix1 = stoi[ch1]\n",
    "        ix2 = stoi[ch2]\n",
    "        ix3 = stoi[ch3]\n",
    "        N[ix1, ix2, ix3] += 1"
   ]
  },
  {
   "cell_type": "code",
   "execution_count": 58,
   "id": "370962f2-d6ff-4900-ac21-5e9eb7c3dd52",
   "metadata": {},
   "outputs": [
    {
     "data": {
      "text/plain": [
       "tensor([[[  0,   0,   0,  ...,   0,   0,   0],\n",
       "         [  0, 207, 190,  ...,  27, 173, 152],\n",
       "         [  0, 169,   0,  ...,   0,   4,   0],\n",
       "         ...,\n",
       "         [  0,  57,   0,  ...,   1,  17,  11],\n",
       "         [  0, 246,   0,  ...,   0,   0,   2],\n",
       "         [  0, 456,   0,  ...,   0,  91,   1]],\n",
       "\n",
       "        [[  0,   0,   0,  ...,   0,   0,   0],\n",
       "         [ 40,   0,   5,  ...,   0,  20,  11],\n",
       "         [ 36,  28,  20,  ...,   0,  12,   0],\n",
       "         ...,\n",
       "         [ 11,   5,   0,  ...,  17,   6,   3],\n",
       "         [163, 389,  13,  ...,   0,  16,  40],\n",
       "         [ 38, 123,   0,  ...,   0,  12,  22]],\n",
       "\n",
       "        [[  0,   0,   0,  ...,   0,   0,   0],\n",
       "         [ 46,   5,   5,  ...,   4,  31,   4],\n",
       "         [  1,   8,   0,  ...,   0,   9,   0],\n",
       "         ...,\n",
       "         [  0,   0,   0,  ...,   0,   0,   0],\n",
       "         [ 55,   4,   1,  ...,   0,   0,   0],\n",
       "         [  0,   0,   0,  ...,   0,   0,   0]],\n",
       "\n",
       "        ...,\n",
       "\n",
       "        [[  0,   0,   0,  ...,   0,   0,   0],\n",
       "         [ 10,   0,   2,  ...,   0,  10,   0],\n",
       "         [  0,   0,   0,  ...,   0,   1,   0],\n",
       "         ...,\n",
       "         [ 18,   3,   0,  ...,   0,   1,   0],\n",
       "         [  5,   4,   0,  ...,   0,   0,   0],\n",
       "         [  0,  16,   0,  ...,   0,   0,   0]],\n",
       "\n",
       "        [[  0,   0,   0,  ...,   0,   0,   0],\n",
       "         [716,  46,  10,  ...,   3,   6,  21],\n",
       "         [  2,   2,   0,  ...,   0,   0,   0],\n",
       "         ...,\n",
       "         [ 23,   1,   0,  ...,   1,   0,   0],\n",
       "         [  1,  18,   0,  ...,   0,   0,   0],\n",
       "         [  2,  27,   0,  ...,   1,   0,   0]],\n",
       "\n",
       "        [[  0,   0,   0,  ...,   0,   0,   0],\n",
       "         [ 98,  14,  40,  ...,   3,  97,   3],\n",
       "         [  0,   0,   0,  ...,   0,   0,   0],\n",
       "         ...,\n",
       "         [  1,   0,   0,  ...,   0,   0,   0],\n",
       "         [ 34,  27,   0,  ...,   0,   0,   1],\n",
       "         [  4,  13,   0,  ...,   0,   7,   0]]], dtype=torch.int32)"
      ]
     },
     "execution_count": 58,
     "metadata": {},
     "output_type": "execute_result"
    }
   ],
   "source": [
    "N"
   ]
  },
  {
   "cell_type": "code",
   "execution_count": 59,
   "id": "7934017e-f32b-4467-b9de-3da0007a56d2",
   "metadata": {},
   "outputs": [],
   "source": [
    "P = N.float()"
   ]
  },
  {
   "cell_type": "code",
   "execution_count": 62,
   "id": "ecfc882d-68e7-4165-9c30-4f7a9f84eaa7",
   "metadata": {},
   "outputs": [
    {
     "data": {
      "text/plain": [
       "tensor([ 4., 13.,  0.,  0.,  0.,  2.,  0.,  0.,  0.,  8.,  0.,  0.,  5.,  4.,\n",
       "         0.,  1.,  0.,  0.,  0.,  0.,  0.,  1.,  0.,  0.,  0.,  7.,  0.])"
      ]
     },
     "execution_count": 62,
     "metadata": {},
     "output_type": "execute_result"
    }
   ],
   "source": [
    "P[26,26]"
   ]
  },
  {
   "cell_type": "code",
   "execution_count": 39,
   "id": "24aeafb2-b8c9-48e3-9441-cf8b40d0963e",
   "metadata": {},
   "outputs": [],
   "source": [
    "P = (N+1).float()"
   ]
  },
  {
   "cell_type": "code",
   "execution_count": 40,
   "id": "94e1d298-4c4a-4701-b977-b85f0c4b19e2",
   "metadata": {},
   "outputs": [
    {
     "data": {
      "text/plain": [
       "tensor(289.)"
      ]
     },
     "execution_count": 40,
     "metadata": {},
     "output_type": "execute_result"
    }
   ],
   "source": [
    "P[0,5,13]"
   ]
  },
  {
   "cell_type": "code",
   "execution_count": 42,
   "id": "31127eda-ba65-40df-80ed-431f72d4215d",
   "metadata": {},
   "outputs": [
    {
     "data": {
      "text/plain": [
       "tensor(1558.)"
      ]
     },
     "execution_count": 42,
     "metadata": {},
     "output_type": "execute_result"
    }
   ],
   "source": [
    "P[0,5].sum()"
   ]
  },
  {
   "cell_type": "code",
   "execution_count": 43,
   "id": "f51ac997-b095-47e5-9447-1e5a5fdfc4db",
   "metadata": {},
   "outputs": [
    {
     "data": {
      "text/plain": [
       "0.18549422336328628"
      ]
     },
     "execution_count": 43,
     "metadata": {},
     "output_type": "execute_result"
    }
   ],
   "source": [
    "289 / 1558"
   ]
  },
  {
   "cell_type": "code",
   "execution_count": 24,
   "id": "ef851ca4-0d28-48d2-802f-003ed8b2664c",
   "metadata": {},
   "outputs": [
    {
     "data": {
      "text/plain": [
       "torch.Size([27, 27, 1])"
      ]
     },
     "execution_count": 24,
     "metadata": {},
     "output_type": "execute_result"
    }
   ],
   "source": [
    "P.sum(2, keepdim=True).shape"
   ]
  },
  {
   "cell_type": "code",
   "execution_count": 32,
   "id": "d7421272-e784-439f-9cd6-65972909163a",
   "metadata": {},
   "outputs": [
    {
     "data": {
      "text/plain": [
       "torch.Size([27, 27, 27])"
      ]
     },
     "execution_count": 32,
     "metadata": {},
     "output_type": "execute_result"
    }
   ],
   "source": [
    "P = P / P.sum(2, keepdim=True)\n",
    "P.shape"
   ]
  },
  {
   "cell_type": "code",
   "execution_count": 37,
   "id": "f10ca077-b162-4f55-b28f-897cd1346485",
   "metadata": {},
   "outputs": [
    {
     "data": {
      "text/plain": [
       "{'a': 1,\n",
       " 'b': 2,\n",
       " 'c': 3,\n",
       " 'd': 4,\n",
       " 'e': 5,\n",
       " 'f': 6,\n",
       " 'g': 7,\n",
       " 'h': 8,\n",
       " 'i': 9,\n",
       " 'j': 10,\n",
       " 'k': 11,\n",
       " 'l': 12,\n",
       " 'm': 13,\n",
       " 'n': 14,\n",
       " 'o': 15,\n",
       " 'p': 16,\n",
       " 'q': 17,\n",
       " 'r': 18,\n",
       " 's': 19,\n",
       " 't': 20,\n",
       " 'u': 21,\n",
       " 'v': 22,\n",
       " 'w': 23,\n",
       " 'x': 24,\n",
       " 'y': 25,\n",
       " 'z': 26,\n",
       " '.': 0}"
      ]
     },
     "execution_count": 37,
     "metadata": {},
     "output_type": "execute_result"
    }
   ],
   "source": [
    "stoi"
   ]
  },
  {
   "cell_type": "code",
   "execution_count": 36,
   "id": "4a7edb63-fb9b-42ee-9349-b1619a33785b",
   "metadata": {},
   "outputs": [
    {
     "name": "stdout",
     "output_type": "stream",
     "text": [
      ".e->m: 0.1855 -1.6847\n",
      "em->m: 0.1269 -2.0645\n",
      "mm->a: 0.3744 -0.9825\n",
      "ma->.: 0.0669 -2.7050\n",
      ".o->l: 0.2494 -1.3887\n",
      "ol->i: 0.1084 -2.2223\n",
      "li->v: 0.0219 -3.8195\n",
      "iv->i: 0.2669 -1.3209\n",
      "vi->a: 0.1578 -1.8465\n",
      "ia->.: 0.3657 -1.0060\n",
      ".a->v: 0.0550 -2.9006\n",
      "av->a: 0.1882 -1.6705\n",
      "va->.: 0.1405 -1.9625\n",
      "log_likelihood=tensor(-25.5742)\n",
      "nll=tensor(25.5742)\n",
      "1.9672455787658691\n"
     ]
    }
   ],
   "source": [
    "log_likelihood = 0.0\n",
    "n = 0\n",
    "for w in words[:3]:\n",
    "# for w in [\"andrejq\"]:\n",
    "    chs = ['.'] + list(w) + ['.']\n",
    "    for ch1, ch2, ch3 in zip(chs, chs[1:], chs[2:]):\n",
    "        ix1 = stoi[ch1]\n",
    "        ix2 = stoi[ch2]\n",
    "        ix3 = stoi[ch3]\n",
    "        prob = P[ix1, ix2, ix3]\n",
    "        logprob = torch.log(prob)\n",
    "        log_likelihood += logprob\n",
    "        n += 1\n",
    "        print(f'{ch1}{ch2}->{ch3}: {prob:.4f} {logprob:.4f}')\n",
    "\n",
    "print (f'{log_likelihood=}')\n",
    "nll = -log_likelihood\n",
    "print(f'{nll=}')\n",
    "print(f'{nll/n}')"
   ]
  },
  {
   "cell_type": "code",
   "execution_count": 38,
   "id": "c2a7bb39-e062-469e-8dfd-179a53b004ad",
   "metadata": {},
   "outputs": [
    {
     "data": {
      "text/plain": [
       "tensor(0.1855)"
      ]
     },
     "execution_count": 38,
     "metadata": {},
     "output_type": "execute_result"
    }
   ],
   "source": [
    "P[0,5,13]"
   ]
  },
  {
   "cell_type": "code",
   "execution_count": 50,
   "id": "e0ae55c9-1733-4b6f-a720-9954e48e6bec",
   "metadata": {},
   "outputs": [
    {
     "data": {
      "text/plain": [
       "10"
      ]
     },
     "execution_count": 50,
     "metadata": {},
     "output_type": "execute_result"
    }
   ],
   "source": [
    "g = torch.Generator().manual_seed(2147483647)\n",
    "ix = torch.multinomial(P[0,0], num_samples=1, replacement=True, generator=g).item()\n",
    "ix"
   ]
  },
  {
   "cell_type": "code",
   "execution_count": 55,
   "id": "1a003a90-c99c-4ed9-b4b0-ccd8a7ed1eb4",
   "metadata": {},
   "outputs": [
    {
     "data": {
      "text/plain": [
       "tensor([  1.,  24.,  16.,   5.,  81.,  10.,  11.,   7.,  10.,  55.,   4.,   9.,\n",
       "        489., 289.,  61.,   5.,   9.,   1.,  91.,  94.,  21.,  22., 155.,   5.,\n",
       "          5.,  25.,  53.])"
      ]
     },
     "execution_count": 55,
     "metadata": {},
     "output_type": "execute_result"
    }
   ],
   "source": [
    "P[0,5]"
   ]
  },
  {
   "cell_type": "code",
   "execution_count": null,
   "id": "91dbd88c-c618-487f-9898-0f7fccbaa18d",
   "metadata": {},
   "outputs": [],
   "source": []
  }
 ],
 "metadata": {
  "kernelspec": {
   "display_name": "Python 3 (ipykernel)",
   "language": "python",
   "name": "python3"
  },
  "language_info": {
   "codemirror_mode": {
    "name": "ipython",
    "version": 3
   },
   "file_extension": ".py",
   "mimetype": "text/x-python",
   "name": "python",
   "nbconvert_exporter": "python",
   "pygments_lexer": "ipython3",
   "version": "3.10.6"
  }
 },
 "nbformat": 4,
 "nbformat_minor": 5
}
