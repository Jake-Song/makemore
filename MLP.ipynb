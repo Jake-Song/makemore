{
 "cells": [
  {
   "cell_type": "code",
   "execution_count": 1,
   "id": "29f0a725-535d-4340-9e90-df02d79dcd74",
   "metadata": {},
   "outputs": [],
   "source": [
    "import torch\n",
    "import torch.nn.functional as F\n",
    "import matplotlib.pyplot as plt # for making figures\n",
    "%matplotlib inline"
   ]
  },
  {
   "cell_type": "code",
   "execution_count": 2,
   "id": "58b7418d-338f-4ebd-9084-b3791d2a78d4",
   "metadata": {},
   "outputs": [
    {
     "data": {
      "text/plain": [
       "['emma', 'olivia', 'ava', 'isabella', 'sophia', 'charlotte', 'mia', 'amelia']"
      ]
     },
     "execution_count": 2,
     "metadata": {},
     "output_type": "execute_result"
    }
   ],
   "source": [
    "# read in all the words\n",
    "words = open('names.txt', 'r').read().splitlines()\n",
    "words[:8]"
   ]
  },
  {
   "cell_type": "code",
   "execution_count": 3,
   "id": "93cc966a-3c01-4cea-9136-f5463b352663",
   "metadata": {},
   "outputs": [
    {
     "data": {
      "text/plain": [
       "32033"
      ]
     },
     "execution_count": 3,
     "metadata": {},
     "output_type": "execute_result"
    }
   ],
   "source": [
    "len(words)"
   ]
  },
  {
   "cell_type": "code",
   "execution_count": 4,
   "id": "01e20531-5dcc-4164-9f4d-bb2d0f735c23",
   "metadata": {},
   "outputs": [
    {
     "name": "stdout",
     "output_type": "stream",
     "text": [
      "{1: 'a', 2: 'b', 3: 'c', 4: 'd', 5: 'e', 6: 'f', 7: 'g', 8: 'h', 9: 'i', 10: 'j', 11: 'k', 12: 'l', 13: 'm', 14: 'n', 15: 'o', 16: 'p', 17: 'q', 18: 'r', 19: 's', 20: 't', 21: 'u', 22: 'v', 23: 'w', 24: 'x', 25: 'y', 26: 'z', 0: '.'}\n"
     ]
    }
   ],
   "source": [
    "# build the vocabulary of characters and mappings to/from integers\n",
    "chars = sorted(list(set(''.join(words))))\n",
    "stoi = {s:i+1 for i,s in enumerate(chars)}\n",
    "stoi['.'] = 0\n",
    "itos = {i:s for s,i in stoi.items()}\n",
    "print(itos)"
   ]
  },
  {
   "cell_type": "code",
   "execution_count": 7,
   "id": "9f6abbcc-546a-4db3-a21f-c4a44a90f753",
   "metadata": {},
   "outputs": [
    {
     "name": "stdout",
     "output_type": "stream",
     "text": [
      "emma\n",
      "... ---> e\n",
      "..e ---> m\n",
      ".em ---> m\n",
      "emm ---> a\n",
      "mma ---> .\n",
      "olivia\n",
      "... ---> o\n",
      "..o ---> l\n",
      ".ol ---> i\n",
      "oli ---> v\n",
      "liv ---> i\n",
      "ivi ---> a\n",
      "via ---> .\n",
      "ava\n",
      "... ---> a\n",
      "..a ---> v\n",
      ".av ---> a\n",
      "ava ---> .\n",
      "isabella\n",
      "... ---> i\n",
      "..i ---> s\n",
      ".is ---> a\n",
      "isa ---> b\n",
      "sab ---> e\n",
      "abe ---> l\n",
      "bel ---> l\n",
      "ell ---> a\n",
      "lla ---> .\n",
      "sophia\n",
      "... ---> s\n",
      "..s ---> o\n",
      ".so ---> p\n",
      "sop ---> h\n",
      "oph ---> i\n",
      "phi ---> a\n",
      "hia ---> .\n"
     ]
    }
   ],
   "source": [
    "# build the dataset\n",
    "\n",
    "block_size = 3 # context length: how many characters do we take to predict the next one?\n",
    "X, Y = [], []\n",
    "for w in words[:5]:\n",
    "  \n",
    "  print(w)\n",
    "  context = [0] * block_size\n",
    "  for ch in w + '.':\n",
    "    ix = stoi[ch]\n",
    "    X.append(context)\n",
    "    Y.append(ix)\n",
    "    print(''.join(itos[i] for i in context), '--->', itos[ix])\n",
    "    context = context[1:] + [ix] # crop and append\n",
    "  \n",
    "X = torch.tensor(X)\n",
    "Y = torch.tensor(Y)"
   ]
  },
  {
   "cell_type": "code",
   "execution_count": 8,
   "id": "b77e6ad8-54b9-4e39-aa52-f969813aae8f",
   "metadata": {},
   "outputs": [
    {
     "data": {
      "text/plain": [
       "(torch.Size([32, 3]), torch.int64, torch.Size([32]), torch.int64)"
      ]
     },
     "execution_count": 8,
     "metadata": {},
     "output_type": "execute_result"
    }
   ],
   "source": [
    "X.shape, X.dtype, Y.shape, Y.dtype"
   ]
  },
  {
   "cell_type": "code",
   "execution_count": 9,
   "id": "dfa7dc2d-3362-4695-b51e-d352e1055397",
   "metadata": {},
   "outputs": [
    {
     "data": {
      "text/plain": [
       "tensor([[ 0,  0,  0],\n",
       "        [ 0,  0,  5],\n",
       "        [ 0,  5, 13],\n",
       "        [ 5, 13, 13],\n",
       "        [13, 13,  1],\n",
       "        [ 0,  0,  0],\n",
       "        [ 0,  0, 15],\n",
       "        [ 0, 15, 12],\n",
       "        [15, 12,  9],\n",
       "        [12,  9, 22],\n",
       "        [ 9, 22,  9],\n",
       "        [22,  9,  1],\n",
       "        [ 0,  0,  0],\n",
       "        [ 0,  0,  1],\n",
       "        [ 0,  1, 22],\n",
       "        [ 1, 22,  1],\n",
       "        [ 0,  0,  0],\n",
       "        [ 0,  0,  9],\n",
       "        [ 0,  9, 19],\n",
       "        [ 9, 19,  1],\n",
       "        [19,  1,  2],\n",
       "        [ 1,  2,  5],\n",
       "        [ 2,  5, 12],\n",
       "        [ 5, 12, 12],\n",
       "        [12, 12,  1],\n",
       "        [ 0,  0,  0],\n",
       "        [ 0,  0, 19],\n",
       "        [ 0, 19, 15],\n",
       "        [19, 15, 16],\n",
       "        [15, 16,  8],\n",
       "        [16,  8,  9],\n",
       "        [ 8,  9,  1]])"
      ]
     },
     "execution_count": 9,
     "metadata": {},
     "output_type": "execute_result"
    }
   ],
   "source": [
    "X"
   ]
  },
  {
   "cell_type": "code",
   "execution_count": 10,
   "id": "40af4941-0173-4035-bcf6-72b3bb06915a",
   "metadata": {},
   "outputs": [
    {
     "data": {
      "text/plain": [
       "tensor([ 5, 13, 13,  1,  0, 15, 12,  9, 22,  9,  1,  0,  1, 22,  1,  0,  9, 19,\n",
       "         1,  2,  5, 12, 12,  1,  0, 19, 15, 16,  8,  9,  1,  0])"
      ]
     },
     "execution_count": 10,
     "metadata": {},
     "output_type": "execute_result"
    }
   ],
   "source": [
    "Y"
   ]
  },
  {
   "cell_type": "code",
   "execution_count": 14,
   "id": "cf89b48b-446d-43d7-b49a-adea6e58da68",
   "metadata": {},
   "outputs": [],
   "source": [
    "C = torch.randn((27, 2))"
   ]
  },
  {
   "cell_type": "code",
   "execution_count": 18,
   "id": "00e1564d-adfd-4288-96bb-6763389643ab",
   "metadata": {},
   "outputs": [
    {
     "data": {
      "text/plain": [
       "tensor([-0.7711, -1.1401])"
      ]
     },
     "execution_count": 18,
     "metadata": {},
     "output_type": "execute_result"
    }
   ],
   "source": [
    "C[5]"
   ]
  },
  {
   "cell_type": "code",
   "execution_count": 27,
   "id": "a6662ba0-ea94-490f-a6d7-03d33417b425",
   "metadata": {},
   "outputs": [
    {
     "data": {
      "text/plain": [
       "tensor([[[-0.1333, -2.0592],\n",
       "         [-0.1333, -2.0592],\n",
       "         [-0.1333, -2.0592]],\n",
       "\n",
       "        [[-0.1333, -2.0592],\n",
       "         [-0.1333, -2.0592],\n",
       "         [-0.7711, -1.1401]],\n",
       "\n",
       "        [[-0.1333, -2.0592],\n",
       "         [-0.7711, -1.1401],\n",
       "         [ 0.5486, -0.1139]],\n",
       "\n",
       "        [[-0.7711, -1.1401],\n",
       "         [ 0.5486, -0.1139],\n",
       "         [ 0.5486, -0.1139]],\n",
       "\n",
       "        [[ 0.5486, -0.1139],\n",
       "         [ 0.5486, -0.1139],\n",
       "         [-0.2342,  0.2694]],\n",
       "\n",
       "        [[-0.1333, -2.0592],\n",
       "         [-0.1333, -2.0592],\n",
       "         [-0.1333, -2.0592]],\n",
       "\n",
       "        [[-0.1333, -2.0592],\n",
       "         [-0.1333, -2.0592],\n",
       "         [-1.1741, -0.2508]],\n",
       "\n",
       "        [[-0.1333, -2.0592],\n",
       "         [-1.1741, -0.2508],\n",
       "         [-1.2671, -1.4794]],\n",
       "\n",
       "        [[-1.1741, -0.2508],\n",
       "         [-1.2671, -1.4794],\n",
       "         [-0.6388, -0.8402]],\n",
       "\n",
       "        [[-1.2671, -1.4794],\n",
       "         [-0.6388, -0.8402],\n",
       "         [ 0.0245,  0.1532]],\n",
       "\n",
       "        [[-0.6388, -0.8402],\n",
       "         [ 0.0245,  0.1532],\n",
       "         [-0.6388, -0.8402]],\n",
       "\n",
       "        [[ 0.0245,  0.1532],\n",
       "         [-0.6388, -0.8402],\n",
       "         [-0.2342,  0.2694]],\n",
       "\n",
       "        [[-0.1333, -2.0592],\n",
       "         [-0.1333, -2.0592],\n",
       "         [-0.1333, -2.0592]],\n",
       "\n",
       "        [[-0.1333, -2.0592],\n",
       "         [-0.1333, -2.0592],\n",
       "         [-0.2342,  0.2694]],\n",
       "\n",
       "        [[-0.1333, -2.0592],\n",
       "         [-0.2342,  0.2694],\n",
       "         [ 0.0245,  0.1532]],\n",
       "\n",
       "        [[-0.2342,  0.2694],\n",
       "         [ 0.0245,  0.1532],\n",
       "         [-0.2342,  0.2694]],\n",
       "\n",
       "        [[-0.1333, -2.0592],\n",
       "         [-0.1333, -2.0592],\n",
       "         [-0.1333, -2.0592]],\n",
       "\n",
       "        [[-0.1333, -2.0592],\n",
       "         [-0.1333, -2.0592],\n",
       "         [-0.6388, -0.8402]],\n",
       "\n",
       "        [[-0.1333, -2.0592],\n",
       "         [-0.6388, -0.8402],\n",
       "         [ 1.2943, -1.6220]],\n",
       "\n",
       "        [[-0.6388, -0.8402],\n",
       "         [ 1.2943, -1.6220],\n",
       "         [-0.2342,  0.2694]],\n",
       "\n",
       "        [[ 1.2943, -1.6220],\n",
       "         [-0.2342,  0.2694],\n",
       "         [-0.5934, -1.2220]],\n",
       "\n",
       "        [[-0.2342,  0.2694],\n",
       "         [-0.5934, -1.2220],\n",
       "         [-0.7711, -1.1401]],\n",
       "\n",
       "        [[-0.5934, -1.2220],\n",
       "         [-0.7711, -1.1401],\n",
       "         [-1.2671, -1.4794]],\n",
       "\n",
       "        [[-0.7711, -1.1401],\n",
       "         [-1.2671, -1.4794],\n",
       "         [-1.2671, -1.4794]],\n",
       "\n",
       "        [[-1.2671, -1.4794],\n",
       "         [-1.2671, -1.4794],\n",
       "         [-0.2342,  0.2694]],\n",
       "\n",
       "        [[-0.1333, -2.0592],\n",
       "         [-0.1333, -2.0592],\n",
       "         [-0.1333, -2.0592]],\n",
       "\n",
       "        [[-0.1333, -2.0592],\n",
       "         [-0.1333, -2.0592],\n",
       "         [ 1.2943, -1.6220]],\n",
       "\n",
       "        [[-0.1333, -2.0592],\n",
       "         [ 1.2943, -1.6220],\n",
       "         [-1.1741, -0.2508]],\n",
       "\n",
       "        [[ 1.2943, -1.6220],\n",
       "         [-1.1741, -0.2508],\n",
       "         [-0.3452, -0.4891]],\n",
       "\n",
       "        [[-1.1741, -0.2508],\n",
       "         [-0.3452, -0.4891],\n",
       "         [ 0.1135, -0.5367]],\n",
       "\n",
       "        [[-0.3452, -0.4891],\n",
       "         [ 0.1135, -0.5367],\n",
       "         [-0.6388, -0.8402]],\n",
       "\n",
       "        [[ 0.1135, -0.5367],\n",
       "         [-0.6388, -0.8402],\n",
       "         [-0.2342,  0.2694]]])"
      ]
     },
     "execution_count": 27,
     "metadata": {},
     "output_type": "execute_result"
    }
   ],
   "source": [
    "C[X]"
   ]
  },
  {
   "cell_type": "code",
   "execution_count": 28,
   "id": "62ff651f-be9e-428f-929b-ee5f46c26ee3",
   "metadata": {},
   "outputs": [
    {
     "data": {
      "text/plain": [
       "torch.Size([32, 3, 2])"
      ]
     },
     "execution_count": 28,
     "metadata": {},
     "output_type": "execute_result"
    }
   ],
   "source": [
    "C[X].shape"
   ]
  },
  {
   "cell_type": "code",
   "execution_count": 30,
   "id": "1ebb2758-f5cc-42c6-8fc2-6096c87e9eda",
   "metadata": {},
   "outputs": [
    {
     "data": {
      "text/plain": [
       "torch.Size([32, 6])"
      ]
     },
     "execution_count": 30,
     "metadata": {},
     "output_type": "execute_result"
    }
   ],
   "source": [
    "C[X].view([-1,6]).shape"
   ]
  },
  {
   "cell_type": "code",
   "execution_count": null,
   "id": "f83ee5a6-783d-4118-9a12-ff570156edc3",
   "metadata": {},
   "outputs": [],
   "source": []
  }
 ],
 "metadata": {
  "kernelspec": {
   "display_name": "Python 3 (ipykernel)",
   "language": "python",
   "name": "python3"
  },
  "language_info": {
   "codemirror_mode": {
    "name": "ipython",
    "version": 3
   },
   "file_extension": ".py",
   "mimetype": "text/x-python",
   "name": "python",
   "nbconvert_exporter": "python",
   "pygments_lexer": "ipython3",
   "version": "3.10.6"
  }
 },
 "nbformat": 4,
 "nbformat_minor": 5
}
